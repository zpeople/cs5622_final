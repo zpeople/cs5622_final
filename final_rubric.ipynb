{
 "cells": [
  {
   "cell_type": "code",
   "execution_count": null,
   "metadata": {},
   "outputs": [],
   "source": []
  },
  {
   "cell_type": "markdown",
   "metadata": {},
   "source": [
    "### Gather data, determine the method of data collection and provenance of the data (1 point)\n",
    "In the earliest phase, select a data source and problem. Feel free to share and discuss your idea on the class discussion board. \n",
    "\n",
    "How to Find Data\n",
    "There are a plethora of data resources these days. Here are a few popular (classic ML data) ones.     \n",
    "\n",
    "UCI ML data repository\n",
    ": Their data is mostly from researchers and is relatively clean. Also, the task types are mostly for classification or regression. Therefore many of them are suitable for the scope of this course's project.     \n",
    "\n",
    "Kaggle\n",
    ": Perhaps one of the most popular data science/ML data repositories today, they have many exciting ongoing or past competitions. But most of the recent dataset/tasks will be beyond the scope of this course. Should you still be interested, choose problems that have tabulated data and classification or regression type tasks.     \n",
    "\n",
    "Data.gov\n",
    ":  Here you will find many government sources of data. You can filter for a specific topic (e.g., Finance) and then restrict your attention to, e.g., CSV data, which should be easier to process.\n",
    "\n",
    "Grand Challenge\n",
    ":  This site has various Biomed image computer vision competitions.\n",
    "\n",
    "Some internet blogs and resources about lists of datasets:     \n",
    "\n",
    "Towards AI\n",
    " \n",
    "\n",
    "Towards Data Science\n",
    "\n",
    "List of datasets for machine-learning research\n",
    "\n",
    "The Datasets Package\n",
    "\n",
    "Pathmind — A.I. Wiki\n",
    "\n",
    "You can download or scrape data from the web or use data you collected (e.g., from your smart sensor devices). Or, if you have a relationship with a company or organization willing to provide a project task or data, you’re welcome to work on their problem. You do not need to share the data. Still, you should be able to make a public GitHub repository (that includes your notebook or codes- at least the ML analysis part if sharing all codes is not possible) and video presentation. \n",
    "\n",
    "Note\n",
    "When looking for data, remember that one of the things you will be graded on is cleaning the data. It is a common trope that on the job, data scientists spend 80% of their time finding, cleaning, and organizing data and 20% on models and analysis. You will not get the total points for the cleaning section if you choose a completely clean dataset and don’t attempt to clean it or identify/fix problems with the data. \n",
    "\n",
    "The data can be web-scraped or downloaded from any source as long as it's legal and ethical and does not violate their policy or intellectual property/copyrights."
   ]
  },
  {
   "cell_type": "markdown",
   "metadata": {},
   "source": [
    "### Identify a Supervised Machine Learning Problem (5 points)\n",
    "If you're going to use a Kaggle competition or similar, you must focus more on model building and/or analysis to be a valid project. Replicating what's in the Kaggle kernel or other notebooks available online is not a valid project. It is reasonable to add different approaches and compare them with the Kaggle kernel or other notebooks available online. It is also good to find a research paper, implement an algorithm, and run experiments comparing its performance to different algorithms.  "
   ]
  },
  {
   "cell_type": "markdown",
   "metadata": {},
   "source": [
    "### Exploratory Data Analysis (EDA) — Inspect, Visualize and Clean the Data (34 points)\n",
    "\n",
    "Go through the initial data cleaning and EDA and judge whether you need to collect more or different data. \n",
    "\n",
    "EDA Procedure Example \n",
    "Describe the factors or components that make up the dataset (The \"factors\" here are called \"features\" in the machine learning term. These factors are often columns in the tabulated data). For each factor, use a box-plot, scatter plot, histogram, etc., to describe the data distribution as appropriate.\n",
    "\n",
    "Describe correlations between different factors of the dataset and justify your assumption that they are correlated or not correlated. You may use numeric or qualitative/graphical analysis for this step.\n",
    "\n",
    "Determine if any data needs to be transformed. For example, if you're planning on using an SVM method for prediction, you may need to normalize or scale the data if there is a considerable difference in the range of the data.\n",
    "\n",
    "Using your hypothesis, indicate if it's likely that you should transform data, such as using a log transform or other transformation of the dataset.\n",
    "\n",
    "You should determine if your data has outliers or needs to be cleaned in any way. Are there missing data values for specific factors? How will you handle the data cleaning? Will you discard, interpolate or otherwise substitute data values?\n",
    "\n",
    "If you believe that specific factors will be more important than others in your analysis, you should mention which and why. You will use this to confirm your intuitions in your final write-up."
   ]
  },
  {
   "cell_type": "markdown",
   "metadata": {},
   "source": [
    "### Perform Analysis Using Supervised Machine Learning Models of your Choice, Present Discussion and Conclusions (65 points)\n",
    "Start the main analysis (the main analysis refers to supervised learning tasks such as classification or regression). Depending on your project, you may have one model or more. Generally, it is deemed a higher quality project if you compare multiple models and show your understanding of why specific models work better than the other or what limitations or cautions specific models may have. For machine learning models, another recommendation is to show enough effort on the hyperparameter optimization.\n",
    "\n",
    "\n",
    "If your project involves making a web app (not required), you can include the demo."
   ]
  },
  {
   "cell_type": "markdown",
   "metadata": {},
   "source": [
    "### Produce Deliverables: High-Quality, Organized Jupyter Notebook Report, Video presentation, and GitHub Repository (35 points)\n",
    "These deliverables serve two purposes- grade for this course and your project portfolio that you can show when you apply for jobs.\n",
    "\n",
    "If you haven’t used GitHub previously, please find a tutorial and get acquainted with it before the project deadline. For the sake of this project, you can use GitHub to showcase your codebase. In the real world, versioning with GitHub is vital for collaboration. Sometimes Jupyter notebooks don’t seem particularly well-suited to versioning with GitHub due to hard-to-read diffs and the like. If you want to use this project as an opportunity to practice versioning with GitHub, consider something like the following: \n",
    "https://www.reviewnb.com\n",
    "."
   ]
  }
 ],
 "metadata": {
  "language_info": {
   "name": "python"
  }
 },
 "nbformat": 4,
 "nbformat_minor": 2
}
